{
  "nbformat": 4,
  "nbformat_minor": 0,
  "metadata": {
    "kernelspec": {
      "display_name": "Python 3",
      "language": "python",
      "name": "python3"
    },
    "language_info": {
      "codemirror_mode": {
        "name": "ipython",
        "version": 3
      },
      "file_extension": ".py",
      "mimetype": "text/x-python",
      "name": "python",
      "nbconvert_exporter": "python",
      "pygments_lexer": "ipython3",
      "version": "3.6.5"
    },
    "colab": {
      "name": "Copy of fcc_book_recommendation_knn.ipynb",
      "provenance": [],
      "collapsed_sections": [],
      "include_colab_link": true
    }
  },
  "cells": [
    {
      "cell_type": "markdown",
      "metadata": {
        "id": "view-in-github",
        "colab_type": "text"
      },
      "source": [
        "<a href=\"https://colab.research.google.com/github/brooketalcott/ML-Practice/blob/main/Copy_of_fcc_book_recommendation_knn.ipynb\" target=\"_parent\"><img src=\"https://colab.research.google.com/assets/colab-badge.svg\" alt=\"Open In Colab\"/></a>"
      ]
    },
    {
      "cell_type": "markdown",
      "metadata": {
        "id": "uGd4NYQX1Rf_",
        "colab_type": "text"
      },
      "source": [
        "*Note: You are currently reading this using Google Colaboratory which is a cloud-hosted version of Jupyter Notebook. This is a document containing both text cells for documentation and runnable code cells. If you are unfamiliar with Jupyter Notebook, watch this 3-minute introduction before starting this challenge: https://www.youtube.com/watch?v=inN8seMm7UI*\n",
        "\n",
        "---\n",
        "\n",
        "In this challenge, you will create a book recommendation algorithm using **K-Nearest Neighbors**.\n",
        "\n",
        "You will use the [Book-Crossings dataset](http://www2.informatik.uni-freiburg.de/~cziegler/BX/). This dataset contains 1.1 million ratings (scale of 1-10) of 270,000 books by 90,000 users. \n",
        "\n",
        "After importing and cleaning the data, use `NearestNeighbors` from `sklearn.neighbors` to develop a model that shows books that are similar to a given book. The Nearest Neighbors algorithm measures distance to determine the “closeness” of instances.\n",
        "\n",
        "Create a function named `get_recommends` that takes a book title (from the dataset) as an argument and returns a list of 5 similar books with their distances from the book argument.\n",
        "\n",
        "This code:\n",
        "\n",
        "`get_recommends(\"The Queen of the Damned (Vampire Chronicles (Paperback))\")`\n",
        "\n",
        "should return:\n",
        "\n",
        "```\n",
        "[\n",
        "  'The Queen of the Damned (Vampire Chronicles (Paperback))',\n",
        "  [\n",
        "    ['Catch 22', 0.793983519077301], \n",
        "    ['The Witching Hour (Lives of the Mayfair Witches)', 0.7448656558990479], \n",
        "    ['Interview with the Vampire', 0.7345068454742432],\n",
        "    ['The Tale of the Body Thief (Vampire Chronicles (Paperback))', 0.5376338362693787],\n",
        "    ['The Vampire Lestat (Vampire Chronicles, Book II)', 0.5178412199020386]\n",
        "  ]\n",
        "]\n",
        "```\n",
        "\n",
        "Notice that the data returned from `get_recommends()` is a list. The first element in the list is the book title passed in to the function. The second element in the list is a list of five more lists. Each of the five lists contains a recommended book and the distance from the recommended book to the book passed in to the function.\n",
        "\n",
        "If you graph the dataset (optional), you will notice that most books are not rated frequently. To ensure statistical significance, remove from the dataset users with less than 200 ratings and books with less than 100 ratings.\n",
        "\n",
        "The first three cells import libraries you may need and the data to use. The final cell is for testing. Write all your code in between those cells."
      ]
    },
    {
      "cell_type": "code",
      "metadata": {
        "id": "Y1onB6kUvo4Z",
        "colab_type": "code",
        "colab": {}
      },
      "source": [
        "# import libraries (you may add additional imports but you may not have to)\n",
        "import numpy as np\n",
        "import pandas as pd\n",
        "from scipy.sparse import csr_matrix\n",
        "from sklearn.neighbors import NearestNeighbors\n",
        "import matplotlib.pyplot as plt"
      ],
      "execution_count": null,
      "outputs": []
    },
    {
      "cell_type": "code",
      "metadata": {
        "id": "iAQGqqO_vo4d",
        "colab_type": "code",
        "colab": {}
      },
      "source": [
        "# get data files\n",
        "!wget https://cdn.freecodecamp.org/project-data/books/book-crossings.zip\n",
        "\n",
        "!unzip book-crossings.zip\n",
        "\n",
        "books_filename = 'BX-Books.csv'\n",
        "ratings_filename = 'BX-Book-Ratings.csv'"
      ],
      "execution_count": null,
      "outputs": []
    },
    {
      "cell_type": "code",
      "metadata": {
        "id": "NClILWOiEd6Q",
        "colab_type": "code",
        "colab": {}
      },
      "source": [
        "# import csv data into dataframes\n",
        "df_books = pd.read_csv(\n",
        "    books_filename,\n",
        "    encoding = \"ISO-8859-1\",\n",
        "    sep=\";\",\n",
        "    header=0,\n",
        "    names=['isbn', 'title', 'author'],\n",
        "    usecols=['isbn', 'title', 'author'],\n",
        "    dtype={'isbn': 'str', 'title': 'str', 'author': 'str'})\n",
        "\n",
        "df_ratings = pd.read_csv(\n",
        "    ratings_filename,\n",
        "    encoding = \"ISO-8859-1\",\n",
        "    sep=\";\",\n",
        "    header=0,\n",
        "    names=['user', 'isbn', 'rating'],\n",
        "    usecols=['user', 'isbn', 'rating'],\n",
        "    dtype={'user': 'int32', 'isbn': 'str', 'rating': 'float32'})"
      ],
      "execution_count": null,
      "outputs": []
    },
    {
      "cell_type": "code",
      "metadata": {
        "id": "xAcXjkCFCh0A",
        "colab_type": "code",
        "colab": {}
      },
      "source": [
        "# add your code here - consider creating a new cell for each section of code\n",
        "def rem_outliers(dataframe,orig,col,min_val):\n",
        "  df = dataframe.copy()\n",
        "  df = (df[df[col]\n",
        "             .isin(orig[col]\n",
        "                   .value_counts()[lambda x: x >= min_val]\n",
        "                   .index\n",
        "                   .to_list()\n",
        "                   )\n",
        "             ]\n",
        "        )\n",
        "  return df\n",
        "\n",
        "df = pd.merge(df_ratings,df_books,on='isbn')\n",
        "\n",
        "df_r = (df\n",
        "        .pipe(rem_outliers,df_ratings,'user',200)\n",
        "        .pipe(rem_outliers,df_ratings,'isbn',100)\n",
        "        )\n",
        "\n",
        "# stats = df_r.describe()['rating']\n",
        "# df_r['rating'] = (df_r['rating']-stats['min'])/(stats['max']-stats['min'])\n",
        "# df_r['rating']"
      ],
      "execution_count": null,
      "outputs": []
    },
    {
      "cell_type": "code",
      "metadata": {
        "id": "x_QcVZlsy_h2",
        "colab_type": "code",
        "colab": {}
      },
      "source": [
        "df_r_pivot = df_r.pivot(index='isbn',columns='user',values='rating').fillna(0)\n",
        "df_r_matrix = csr_matrix(df_r_pivot.values)\n"
      ],
      "execution_count": null,
      "outputs": []
    },
    {
      "cell_type": "code",
      "metadata": {
        "id": "5dWc7lZW4Crq",
        "colab_type": "code",
        "colab": {
          "base_uri": "https://localhost:8080/",
          "height": 72
        },
        "outputId": "50840a09-6640-45c0-91a4-6f3e879da6ac"
      },
      "source": [
        "model = NearestNeighbors(metric='cosine')\n",
        "model.fit(df_r_matrix)"
      ],
      "execution_count": null,
      "outputs": [
        {
          "output_type": "execute_result",
          "data": {
            "text/plain": [
              "NearestNeighbors(algorithm='auto', leaf_size=30, metric='cosine',\n",
              "                 metric_params=None, n_jobs=None, n_neighbors=5, p=2,\n",
              "                 radius=1.0)"
            ]
          },
          "metadata": {
            "tags": []
          },
          "execution_count": 335
        }
      ]
    },
    {
      "cell_type": "code",
      "metadata": {
        "id": "28U11pXhDSZY",
        "colab_type": "code",
        "colab": {}
      },
      "source": [
        "def get_isbn(title):\n",
        "  isbn = df_books.query('title == @title').isbn.values[0]\n",
        "  return isbn"
      ],
      "execution_count": null,
      "outputs": []
    },
    {
      "cell_type": "code",
      "metadata": {
        "id": "WMt4RI5y4qCb",
        "colab_type": "code",
        "colab": {
          "base_uri": "https://localhost:8080/",
          "height": 109
        },
        "outputId": "515f18d4-563b-499c-f4f2-539efe1b90fd"
      },
      "source": [
        "isbn = get_isbn(\"Where the Heart Is (Oprah's Book Club (Paperback))\")\n",
        "book_rec = df_r_pivot[df_r_pivot.index.isin([isbn])]\n",
        "dist,inst = model.kneighbors(\n",
        "    book_rec.values.reshape(1,-1),n_neighbors=6)\n",
        "distances = dist.flatten()\n",
        "instances = inst.flatten()\n",
        "details = [\n",
        "         [df_books.query(\n",
        "             f'isbn == \"{df_r_pivot.index[instances[i]]}\"'\n",
        "             ).title.values[0]\n",
        "          ,round(distances[i],2)]\n",
        "         for i in range(len(distances))\n",
        "]\n",
        "\n",
        "reccommends = [details[0][0]] + [details[2:]]\n",
        "reccommends[1].sort(key=lambda x: x[1],reverse=True)\n",
        "reccommends"
      ],
      "execution_count": null,
      "outputs": [
        {
          "output_type": "execute_result",
          "data": {
            "text/plain": [
              "[\"Where the Heart Is (Oprah's Book Club (Paperback))\",\n",
              " [[\"I'll Be Seeing You\", 0.8],\n",
              "  ['I Know This Much Is True', 0.77],\n",
              "  ['The Surgeon', 0.77],\n",
              "  ['The Weight of Water', 0.77]]]"
            ]
          },
          "metadata": {
            "tags": []
          },
          "execution_count": 345
        }
      ]
    },
    {
      "cell_type": "code",
      "metadata": {
        "id": "BdgB22uaFqT7",
        "colab_type": "code",
        "colab": {}
      },
      "source": [
        ""
      ],
      "execution_count": null,
      "outputs": []
    },
    {
      "cell_type": "code",
      "metadata": {
        "id": "f5ZUd-L1SQz7",
        "colab_type": "code",
        "colab": {}
      },
      "source": [
        "# function to return recommended books - this will be tested\n",
        "def get_recommends(book = \"\"):\n",
        "  isbn = get_isbn(book)\n",
        "  book_rec = df_r_pivot[df_r_pivot.index.isin([isbn])]\n",
        "  dist,inst = model.kneighbors(\n",
        "      book_rec.values.reshape(1,-1),n_neighbors=6)\n",
        "  distances = dist.flatten()\n",
        "  instances = inst.flatten()\n",
        "  details = [\n",
        "          [df_books.query(\n",
        "              f'isbn == \"{df_r_pivot.index[instances[i]]}\"'\n",
        "              ).title.values[0]\n",
        "            ,round(distances[i],2)]\n",
        "          for i in range(len(distances))\n",
        "  ]\n",
        "\n",
        "  reccommends = [details[0][0]] + [details[2:]]\n",
        "  reccommends[1].sort(key=lambda x: x[1],reverse=True)\n",
        "\n",
        "  return reccommends"
      ],
      "execution_count": null,
      "outputs": []
    },
    {
      "cell_type": "markdown",
      "metadata": {
        "id": "eat9A2TKawHU",
        "colab_type": "text"
      },
      "source": [
        "Use the cell below to test your function. The `test_book_recommendation()` function will inform you if you passed the challenge or need to keep trying."
      ]
    },
    {
      "cell_type": "code",
      "metadata": {
        "id": "jd2SLCh8oxMh",
        "colab_type": "code",
        "colab": {
          "base_uri": "https://localhost:8080/",
          "height": 35
        },
        "outputId": "6867236b-ac97-4dac-ada7-5b4beec72aec"
      },
      "source": [
        "\n",
        "def test_book_recommendation():\n",
        "  test_pass = True\n",
        "  recommends = get_recommends(\"Where the Heart Is (Oprah's Book Club (Paperback))\")\n",
        "  if recommends[0] != \"Where the Heart Is (Oprah's Book Club (Paperback))\":\n",
        "    test_pass = False\n",
        "  recommended_books = [\"I'll Be Seeing You\", 'The Weight of Water', 'The Surgeon', 'I Know This Much Is True']\n",
        "  recommended_books_dist = [0.8, 0.77, 0.77, 0.77]\n",
        "  for i in range(2): \n",
        "    if recommends[1][i][0] not in recommended_books:\n",
        "      test_pass = False\n",
        "    if abs(recommends[1][i][1] - recommended_books_dist[i]) >= 0.05:\n",
        "      test_pass = False\n",
        "  if test_pass:\n",
        "    print(\"You passed the challenge! 🎉🎉🎉🎉🎉\")\n",
        "  else:\n",
        "    print(\"You havn't passed yet. Keep trying!\")\n",
        "\n",
        "test_book_recommendation()"
      ],
      "execution_count": null,
      "outputs": [
        {
          "output_type": "stream",
          "text": [
            "You passed the challenge! 🎉🎉🎉🎉🎉\n"
          ],
          "name": "stdout"
        }
      ]
    },
    {
      "cell_type": "code",
      "metadata": {
        "id": "vqS9PlWwVLvj",
        "colab_type": "code",
        "colab": {}
      },
      "source": [
        ""
      ],
      "execution_count": null,
      "outputs": []
    }
  ]
}